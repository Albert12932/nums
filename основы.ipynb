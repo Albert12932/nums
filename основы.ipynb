{
 "cells": [
  {
   "cell_type": "markdown",
   "metadata": {},
   "source": [
    "# Python - это высокоуровневый язык программирования, который отлично подходит для начинающих, так как имеет простой и понятный синтаксис. Он позволяет создавать различные типы программ, включая веб-приложения, научные вычисления, обработку данных, автоматизацию задач и многое другое.\n",
    "\n",
    "## Основные типы данных, которые поддерживает Python:\n",
    "### 1. <font color=\"5996cf\">Числовые: </font>\n",
    "<pre>\n",
    "    1. <font color=\"5996cf\">int - целое число:</font>\n",
    "        10\n",
    "        150\n",
    "        100\n",
    "        0\n",
    "        -100\n",
    "        -10 \n",
    "\n",
    "        \n",
    "    2. <font color=\"5996cf\">float - вещественное число:</font>\n",
    "        1.5\n",
    "        20.1\n",
    "        140.125\n",
    "        15.8 </pre>\n",
    "### 2. <font color=\"52ba83\">Строки: </font>\n",
    "<pre>\n",
    "    <font color=\"52ba83\">str - строка (string):</font>\n",
    "        'Hello'\n",
    "        'Puzo'\n",
    "        'ABC'\n",
    "        '1234' </pre>\n",
    "### 3. Списки: \n",
    "<pre>\n",
    "    list - список:\n",
    "        [<font color=\"5996cf\">1, 10, 100, 15</font>]\n",
    "        [<font color=\"52ba83\">'ABC', 'Hello',</font> <font color=\"5996cf\">19, 0</font>]\n",
    "        [<font color=\"5996cf\">-10, -20, -40</font>]\n",
    "    </pre>\n",
    "### 4. Булевы:\n",
    "<pre>\n",
    "    <font color=\"ba9752\">True - истина\n",
    "    False - ложь</font>\n",
    "    </pre>\n",
    "\n",
    "## Математические операции:\n",
    "<pre>\n",
    "- Сложение: +\n",
    "\n",
    "    <font color=\"5996cf\">15 + 10 -> 25</font>\n",
    "\n",
    "- Вычитание: -\n",
    "\n",
    "    <font color=\"5996cf\">15 - 10 -> 5</font>\n",
    "\n",
    "- Умножение: *\n",
    "\n",
    "    <font color=\"5996cf\">15 * 10 -> 150</font>\n",
    "\n",
    "- Деление: /\n",
    "\n",
    "    <font color=\"5996cf\">15 / 10 -> 1.5</font>\n",
    "\n",
    "- Возведение в степень: **\n",
    "\n",
    "    <font color=\"5996cf\">2 ** 5 -> 32</font>\n",
    "\n",
    "- Целочисленное деление: //\n",
    "\n",
    "    <font color=\"5996cf\">115 // 10 -> 10</font>\n",
    "    \n",
    "- Остаток от деления: %\n",
    "\n",
    "    <font color=\"5996cf\">115 % 10 -> 5</font>\n",
    "</pre>\n",
    "\n",
    "\n",
    "## Переменные - это именованные объекты, которые хранят ссылку на значение. Для изменения значения переменной просто присваиваем ей новое значение.\n",
    "\n",
    "Примеры:\n",
    "```python\n",
    "name = \"John\"\n",
    "name = \"Alice\"  # изменение значения переменной\n",
    "num  = 10\n",
    "num  = 15\n",
    "```\n",
    "\n",
    "## Функции ввода и вывода:\n",
    "### - print() - для вывода информации на экран:\n"
   ]
  },
  {
   "cell_type": "code",
   "execution_count": null,
   "metadata": {},
   "outputs": [],
   "source": [
    "name = 'Albert'\n",
    "print(\"Hello, world!\")\n",
    "print(\"Привет\", name)\n",
    "name = 'Bob'\n",
    "print(\"Привет\", name)"
   ]
  },
  {
   "cell_type": "markdown",
   "metadata": {},
   "source": [
    "### - input() - для получения ввода от пользователя\n"
   ]
  },
  {
   "cell_type": "code",
   "execution_count": null,
   "metadata": {},
   "outputs": [],
   "source": [
    "name = input(\"Введите ваше имя: \")\n",
    "print(\"Привет\", name)"
   ]
  },
  {
   "cell_type": "markdown",
   "metadata": {},
   "source": [
    "### Для изменения переменной, можно добавить к старому значению новое:"
   ]
  },
  {
   "cell_type": "code",
   "execution_count": null,
   "metadata": {},
   "outputs": [],
   "source": [
    "num = 10\n",
    "num = num + 5\n",
    "print(num)"
   ]
  },
  {
   "cell_type": "code",
   "execution_count": null,
   "metadata": {},
   "outputs": [],
   "source": [
    "num = 10\n",
    "num += 5\n",
    "print(num)"
   ]
  },
  {
   "cell_type": "code",
   "execution_count": null,
   "metadata": {},
   "outputs": [],
   "source": [
    "num = 15\n",
    "num -= 5\n",
    "print(num)"
   ]
  },
  {
   "cell_type": "code",
   "execution_count": null,
   "metadata": {},
   "outputs": [],
   "source": [
    "num = 10\n",
    "num *= 3\n",
    "print(num)"
   ]
  },
  {
   "cell_type": "markdown",
   "metadata": {},
   "source": [
    "\n",
    "## Индексация и срезы используются для доступа к элементам в строках, списках, кортежах и других структурах данных.\n",
    "\n",
    "### Примеры:\n"
   ]
  },
  {
   "cell_type": "code",
   "execution_count": null,
   "metadata": {},
   "outputs": [],
   "source": [
    "my_string = \"Hello, world!\"\n",
    "print(my_string[0])  # Выводит первую букву\n",
    "print(my_string[:])  # Выводит седьмой символ и все следующие"
   ]
  },
  {
   "cell_type": "markdown",
   "metadata": {},
   "source": [
    "Задания для закрепления:\n",
    "1. Создайте переменную с числовым значением и выведите ее на экран.\n",
    "2. Запросите у пользователя его имя и выведите приветственное сообщение.\n",
    "3. Создайте список из пяти элементов и выведите третий элемент.\n",
    "4. Возведите число 2 в 10 степень и выведите результат."
   ]
  },
  {
   "cell_type": "markdown",
   "metadata": {},
   "source": []
  }
 ],
 "metadata": {
  "kernelspec": {
   "display_name": "Python 3",
   "language": "python",
   "name": "python3"
  },
  "language_info": {
   "codemirror_mode": {
    "name": "ipython",
    "version": 3
   },
   "file_extension": ".py",
   "mimetype": "text/x-python",
   "name": "python",
   "nbconvert_exporter": "python",
   "pygments_lexer": "ipython3",
   "version": "3.11.8"
  }
 },
 "nbformat": 4,
 "nbformat_minor": 2
}
