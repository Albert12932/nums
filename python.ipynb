{
 "cells": [
  {
   "cell_type": "markdown",
   "metadata": {},
   "source": [
    "## Основные типы данных, которые поддерживает Python:\n",
    "### 1. <font color=\"5996cf\">Числовые: </font>\n",
    "<pre>\n",
    "    1. <font color=\"5996cf\">int - целое число:</font>\n",
    "        10\n",
    "        150\n",
    "        100\n",
    "        0\n",
    "        -100\n",
    "        -10 \n"
   ]
  },
  {
   "cell_type": "code",
   "execution_count": null,
   "metadata": {},
   "outputs": [],
   "source": [
    "a = '123'\n",
    "a = int(a)\n",
    "print(type(a))"
   ]
  },
  {
   "cell_type": "markdown",
   "metadata": {},
   "source": [
    "\n",
    "        \n",
    "### 2. <font color=\"5996cf\">float - вещественное число:</font>\n",
    "        1.5\n",
    "        20.1\n",
    "        140.125\n",
    "        15.8\n",
    "### 2. <font color=\"52ba83\">Строки: </font>\n",
    "<pre>\n",
    "    <font color=\"52ba83\">str - строка (string):</font>\n",
    "        'Hello'\n",
    "        'Puzo'\n",
    "        'ABC'\n",
    "        '1234' </pre>\n"
   ]
  },
  {
   "cell_type": "markdown",
   "metadata": {},
   "source": [
    "## Методы строк:"
   ]
  },
  {
   "cell_type": "code",
   "execution_count": null,
   "metadata": {},
   "outputs": [],
   "source": [
    "a = 'abc'\n",
    "b = 'def'\n",
    "c = a+b\n",
    "print(c)"
   ]
  },
  {
   "cell_type": "code",
   "execution_count": null,
   "metadata": {},
   "outputs": [],
   "source": [
    "a = 'abc'\n",
    "print(a*3)"
   ]
  },
  {
   "cell_type": "code",
   "execution_count": null,
   "metadata": {},
   "outputs": [],
   "source": [
    "a = 'abcdef'\n",
    "print(len(a)) # len - length (длина)"
   ]
  },
  {
   "cell_type": "code",
   "execution_count": null,
   "metadata": {},
   "outputs": [],
   "source": [
    "a = 'abcdef'\n",
    "   # 012345\n",
    "print(a[0], a[1])\n",
    "print(a[-1], a[-2])\n"
   ]
  },
  {
   "cell_type": "code",
   "execution_count": 61,
   "metadata": {},
   "outputs": [
    {
     "data": {
      "text/plain": [
       "'abc'"
      ]
     },
     "execution_count": 61,
     "metadata": {},
     "output_type": "execute_result"
    }
   ],
   "source": [
    "a = 'abcdef'\n",
    "a[0]+a[1]+a[2]"
   ]
  },
  {
   "cell_type": "code",
   "execution_count": 69,
   "metadata": {},
   "outputs": [
    {
     "name": "stdout",
     "output_type": "stream",
     "text": [
      "vef\n"
     ]
    }
   ],
   "source": [
    "a = 'abcdefddffedgefvefve'\n",
    "print(a[-5:-2])\n"
   ]
  },
  {
   "cell_type": "code",
   "execution_count": null,
   "metadata": {},
   "outputs": [],
   "source": [
    "a = 'abcdef'\n",
    "print(a[0:3])\n",
    "print(a[-4:-1])\n",
    "print(a[5:0:-1])\n"
   ]
  },
  {
   "cell_type": "code",
   "execution_count": null,
   "metadata": {},
   "outputs": [],
   "source": [
    "a = 'ABCABC'\n",
    "print(a.replace('A', 'O', 1))"
   ]
  },
  {
   "cell_type": "code",
   "execution_count": null,
   "metadata": {},
   "outputs": [],
   "source": [
    "a = 'ABC'\n",
    "a[0] = 'D'"
   ]
  },
  {
   "cell_type": "code",
   "execution_count": null,
   "metadata": {},
   "outputs": [],
   "source": [
    "a = '123123123'\n",
    "print(a.count('1'))"
   ]
  },
  {
   "cell_type": "code",
   "execution_count": null,
   "metadata": {},
   "outputs": [],
   "source": [
    "a = '123456'\n",
    "print('123' in a)"
   ]
  },
  {
   "cell_type": "markdown",
   "metadata": {},
   "source": [
    "## f-строки"
   ]
  },
  {
   "cell_type": "code",
   "execution_count": null,
   "metadata": {},
   "outputs": [],
   "source": [
    "a = 15\n",
    "\n",
    "print(f'Наше число - {a}')"
   ]
  },
  {
   "cell_type": "markdown",
   "metadata": {},
   "source": [
    "\n",
    "### 3. Списки: \n",
    "<pre>\n",
    "    list - список:\n",
    "        [<font color=\"5996cf\">1, 10, 100, 15</font>]\n",
    "        [<font color=\"52ba83\">'ABC', 'Hello',</font> <font color=\"5996cf\">19, 0</font>]\n",
    "        [<font color=\"5996cf\">-10, -20, -40</font>]\n",
    "    </pre>\n"
   ]
  },
  {
   "cell_type": "code",
   "execution_count": 72,
   "metadata": {},
   "outputs": [
    {
     "name": "stdout",
     "output_type": "stream",
     "text": [
      "2521\n"
     ]
    }
   ],
   "source": [
    "a = [112, '2521', 3, 4, 5, 6]\n",
    "print(a[1][0])\n"
   ]
  },
  {
   "cell_type": "code",
   "execution_count": 74,
   "metadata": {},
   "outputs": [
    {
     "name": "stdout",
     "output_type": "stream",
     "text": [
      "1\n"
     ]
    }
   ],
   "source": [
    "a = [1, 2, 3, 4, 5, 6]\n",
    "print(a[0:3])"
   ]
  },
  {
   "cell_type": "code",
   "execution_count": 77,
   "metadata": {},
   "outputs": [
    {
     "name": "stdout",
     "output_type": "stream",
     "text": [
      "[15, 10, 3, 4, 5, 6]\n"
     ]
    }
   ],
   "source": [
    "a = [1, 2, 3, 4, 5, 6]\n",
    "a[0] = 15\n",
    "print(a)\n"
   ]
  },
  {
   "cell_type": "code",
   "execution_count": 80,
   "metadata": {},
   "outputs": [
    {
     "name": "stdout",
     "output_type": "stream",
     "text": [
      "[1, 2, 3, 4, 5, 6, 'abc']\n"
     ]
    }
   ],
   "source": [
    "a = [1, 2, 3, 4, 5, 6]\n",
    "a.append('abc')\n",
    "print(a)"
   ]
  },
  {
   "cell_type": "code",
   "execution_count": 81,
   "metadata": {},
   "outputs": [
    {
     "name": "stdout",
     "output_type": "stream",
     "text": [
      "1\n",
      "6\n"
     ]
    }
   ],
   "source": [
    "a = [1, 2, 3, 4, 5, 6]\n",
    "print(min(a))\n",
    "print(max(a))\n"
   ]
  },
  {
   "cell_type": "code",
   "execution_count": 82,
   "metadata": {},
   "outputs": [
    {
     "name": "stdout",
     "output_type": "stream",
     "text": [
      "21\n",
      "6\n"
     ]
    }
   ],
   "source": [
    "a = [1, 2, 3, 4, 5, 6]\n",
    "print(sum(a))\n",
    "\n",
    "print(len(a))\n"
   ]
  },
  {
   "cell_type": "code",
   "execution_count": 84,
   "metadata": {},
   "outputs": [
    {
     "name": "stdout",
     "output_type": "stream",
     "text": [
      "1\n"
     ]
    }
   ],
   "source": [
    "a = [1111, 2, 3, 1, 4, 5, 6]\n",
    "print(a.count(1))\n"
   ]
  },
  {
   "cell_type": "code",
   "execution_count": 85,
   "metadata": {},
   "outputs": [
    {
     "name": "stdout",
     "output_type": "stream",
     "text": [
      "True\n"
     ]
    }
   ],
   "source": [
    "a = [1, 2, 3, 4, 5, 6]\n",
    "print(2 in a)\n"
   ]
  },
  {
   "cell_type": "markdown",
   "metadata": {},
   "source": [
    "\n",
    "### 4. Булевы:\n",
    "<pre>\n",
    "    <font color=\"ba9752\">True - истина\n",
    "    False - ложь</font>\n",
    "    </pre>\n",
    "\n",
    "### 5. Множества:\n",
    "<pre>\n",
    "    <font color=\"ba9752\">{1, 10, 15, 20, 25}</font>\n",
    "    </pre>\n"
   ]
  },
  {
   "cell_type": "code",
   "execution_count": 1,
   "metadata": {},
   "outputs": [
    {
     "name": "stdout",
     "output_type": "stream",
     "text": [
      "{1, 2, 3, 4, 5, 6, 7, 8, 9}\n"
     ]
    }
   ],
   "source": [
    "a = set([1, 2, 3, 4, 5, 6, 7, 8, 9, 1, 2, 3, 5, 8, 1, 2, 5, 8, 9])\n",
    "print(a)\n"
   ]
  },
  {
   "cell_type": "code",
   "execution_count": 97,
   "metadata": {},
   "outputs": [
    {
     "name": "stdout",
     "output_type": "stream",
     "text": [
      "{1, 2, 3, 4, 5, 6, 7, 8, 9, 15, 20}\n"
     ]
    }
   ],
   "source": [
    "a = {1, 2, 3, 4, 5, 6, 7, 8, 9}\n",
    "a.add(15)\n",
    "a.add(20)\n",
    "a.add(20)\n",
    "a.add(20)\n",
    "a.add(20)\n",
    "a.add(20)\n",
    "print(a)\n"
   ]
  },
  {
   "cell_type": "markdown",
   "metadata": {},
   "source": [
    "### 5. Словари:\n",
    "<pre>\n",
    "    <font color=\"ba9752\">{'name':'Albert', \n",
    "    'age':18, \n",
    "    'city':'Moscow'}</font>\n",
    "    </pre>"
   ]
  },
  {
   "cell_type": "code",
   "execution_count": 103,
   "metadata": {},
   "outputs": [
    {
     "name": "stdout",
     "output_type": "stream",
     "text": [
      "{'id': '28052344', 'name': 'Bekhan', 'age': '18'}\n"
     ]
    }
   ],
   "source": [
    "a['age'] = '18'\n",
    "print(a)"
   ]
  },
  {
   "cell_type": "code",
   "execution_count": 105,
   "metadata": {},
   "outputs": [
    {
     "name": "stdout",
     "output_type": "stream",
     "text": [
      "18\n"
     ]
    }
   ],
   "source": [
    "print(a['age'])"
   ]
  },
  {
   "cell_type": "markdown",
   "metadata": {},
   "source": [
    "\n",
    "## Математические операции:\n",
    "<pre>\n",
    "- Сложение: +\n",
    "\n",
    "    <font color=\"5996cf\">15 + 10 -> 25</font>\n",
    "\n",
    "- Вычитание: -\n",
    "\n",
    "    <font color=\"5996cf\">15 - 10 -> 5</font>\n",
    "\n",
    "- Умножение: *\n",
    "\n",
    "    <font color=\"5996cf\">15 * 10 -> 150</font>\n",
    "\n",
    "- Деление: /\n",
    "\n",
    "    <font color=\"5996cf\">15 / 10 -> 1.5</font>\n",
    "\n",
    "- Возведение в степень: **\n",
    "\n",
    "    <font color=\"5996cf\">2 ** 5 -> 32</font>\n",
    "\n",
    "- Целочисленное деление: //\n",
    "\n",
    "    <font color=\"5996cf\">115 // 10 -> 10</font>\n",
    "    \n",
    "- Остаток от деления: %\n",
    "\n",
    "    <font color=\"5996cf\">115 % 10 -> 5</font>\n",
    "</pre>\n",
    "\n",
    "\n",
    "## Переменные - это именованные объекты, которые хранят ссылку на значение. Для изменения значения переменной просто присваиваем ей новое значение.\n",
    "\n",
    "Примеры:\n",
    "```python\n",
    "name = \"John\"\n",
    "name = \"Alice\"  # изменение значения переменной\n",
    "num  = 10\n",
    "num  = 15\n",
    "```\n",
    "\n",
    "# Изменение чисел возможно при помощи конструкции +(операция):"
   ]
  },
  {
   "cell_type": "code",
   "execution_count": null,
   "metadata": {},
   "outputs": [],
   "source": [
    "a = 10\n",
    "a += 5\n",
    "print(a)"
   ]
  },
  {
   "cell_type": "code",
   "execution_count": null,
   "metadata": {},
   "outputs": [],
   "source": [
    "a = 10\n",
    "a *= 5\n",
    "print(a)"
   ]
  },
  {
   "cell_type": "code",
   "execution_count": null,
   "metadata": {},
   "outputs": [],
   "source": [
    "a = 10\n",
    "a //= 5\n",
    "print(a)"
   ]
  },
  {
   "cell_type": "markdown",
   "metadata": {},
   "source": [
    "## Цикл for"
   ]
  },
  {
   "cell_type": "markdown",
   "metadata": {},
   "source": [
    "## <font color=\"ba922d\">Тема 3: Циклы for</font>\n",
    "\n",
    "## Объяснение:\n",
    "Циклы for позволяют выполнять определенный блок кода для каждого элемента в последовательности (например, в списке).\n",
    "\n",
    "## <font color=\"e85f35\">Шаблон на русском:</font>\n",
    "<pre>\n",
    "<font color=\"46e887\">for элемент in список:\n",
    "    выполнить действие с элементом</pre></font>\n",
    "<pre>\n",
    "<font color=\"46e887\">for элемент in промежуток(старт, конец, шаг):\n",
    "    выполнить действие с элементом</pre></font>\n",
    "\n",
    "## <font color=\"46d5e8\">Пример на Python:</font>"
   ]
  },
  {
   "cell_type": "code",
   "execution_count": null,
   "metadata": {},
   "outputs": [],
   "source": [
    "n = 100\n",
    "for element in range(1, n):\n",
    "    print(element)"
   ]
  },
  {
   "cell_type": "code",
   "execution_count": null,
   "metadata": {},
   "outputs": [],
   "source": [
    "list = [10, 15, 25, 65, 'abc', 'def']\n",
    "for element in list:\n",
    "    print(element)"
   ]
  },
  {
   "cell_type": "code",
   "execution_count": null,
   "metadata": {},
   "outputs": [],
   "source": [
    "set = {10, 15, 25, 65, 'abc', 'def'}\n",
    "for element in set:\n",
    "    print(element)"
   ]
  },
  {
   "cell_type": "code",
   "execution_count": null,
   "metadata": {},
   "outputs": [],
   "source": [
    "str = 'abcdef'\n",
    "for element in str:\n",
    "    print(element)"
   ]
  },
  {
   "cell_type": "markdown",
   "metadata": {},
   "source": [
    "## <font color=\"ba922d\">Тема 4: циклы While</font>\n",
    "\n",
    "## Объяснение:\n",
    "Функция While является циклической конструкцией в Python, которая выполняет определенный блок кода, пока условие истинно. Этот тип цикла особенно удобен, когда заранее неизвестно, сколько раз нужно выполнить определенные действия.\n",
    "\n",
    "## <font color=\"e85f35\">Шаблон кода на русском:</font>\n",
    "<pre>\n",
    "<font color=\"46e887\">while условие:\n",
    "    блок кода\n",
    "    выполняется, пока условие истинно</font></pre>\n",
    "\n",
    "\n",
    "## <font color=\"46d5e8\">Пример кода на языке Python:</font>\n"
   ]
  },
  {
   "cell_type": "code",
   "execution_count": null,
   "metadata": {},
   "outputs": [],
   "source": [
    "a = 0\n",
    "while a < 15:\n",
    "    a += 1\n",
    "    print(a)"
   ]
  },
  {
   "cell_type": "code",
   "execution_count": null,
   "metadata": {},
   "outputs": [],
   "source": [
    "s = '8'*25\n",
    "\n",
    "while '888' in s or '111' in s:\n",
    "    if '888' in s:\n",
    "        s = s.replace('888', '1', 1)\n",
    "    else:\n",
    "        s = s.replace('111', '8', 1)\n",
    "    print(s)"
   ]
  },
  {
   "cell_type": "markdown",
   "metadata": {},
   "source": [
    "## All/Any"
   ]
  },
  {
   "cell_type": "code",
   "execution_count": null,
   "metadata": {},
   "outputs": [],
   "source": [
    "print(all([True, True, True]))\n",
    "print(all([True, True, False]))\n",
    "\n",
    "print(any([True, False, False]))\n",
    "print(all([False, False, False]))\n"
   ]
  },
  {
   "cell_type": "markdown",
   "metadata": {},
   "source": [
    "## Генераторы"
   ]
  },
  {
   "cell_type": "code",
   "execution_count": null,
   "metadata": {},
   "outputs": [],
   "source": [
    "a = [num for num in range(1, 10)]\n",
    "print(a)"
   ]
  },
  {
   "cell_type": "code",
   "execution_count": null,
   "metadata": {},
   "outputs": [],
   "source": [
    "a = [num**2 for num in range(1, 10)]\n",
    "print(a)"
   ]
  },
  {
   "cell_type": "code",
   "execution_count": null,
   "metadata": {},
   "outputs": [],
   "source": [
    "a = [element for element in range(1, 29) if element % 2 == 0]\n",
    "print(a)"
   ]
  },
  {
   "cell_type": "markdown",
   "metadata": {},
   "source": [
    "## int(число, система)"
   ]
  },
  {
   "cell_type": "code",
   "execution_count": null,
   "metadata": {},
   "outputs": [],
   "source": [
    "a = '001011'\n",
    "print(int(a, 2))"
   ]
  },
  {
   "cell_type": "code",
   "execution_count": null,
   "metadata": {},
   "outputs": [],
   "source": [
    "a = '12abcd'\n",
    "print(int(a, 16))"
   ]
  },
  {
   "cell_type": "code",
   "execution_count": null,
   "metadata": {},
   "outputs": [],
   "source": [
    "def chetnoe(n):\n",
    "    return n%2==0 # True/False\n",
    "\n",
    "print(chetnoe(11))\n"
   ]
  },
  {
   "cell_type": "code",
   "execution_count": null,
   "metadata": {},
   "outputs": [],
   "source": [
    "def add_numbers(a, b):\n",
    "    return a + b\n",
    "\n",
    "result = add_numbers(2, 3)\n",
    "print(result)"
   ]
  },
  {
   "cell_type": "code",
   "execution_count": null,
   "metadata": {},
   "outputs": [],
   "source": [
    "def hello(name='bob'):\n",
    "    return f'hi, {name}'\n",
    "\n",
    "print(hello('albert'))"
   ]
  },
  {
   "cell_type": "code",
   "execution_count": null,
   "metadata": {},
   "outputs": [],
   "source": [
    "def hello(name='bob'):\n",
    "    return f'hi, {name}'\n",
    "\n",
    "print(hello())"
   ]
  },
  {
   "cell_type": "markdown",
   "metadata": {},
   "source": [
    "# Подсчет чего-либо"
   ]
  },
  {
   "cell_type": "code",
   "execution_count": null,
   "metadata": {},
   "outputs": [],
   "source": [
    "cnt = 0\n",
    "\n",
    "for i in range(1, 100000):\n",
    "    if i%2==0:\n",
    "        cnt += 1\n",
    "print(cnt)"
   ]
  },
  {
   "cell_type": "code",
   "execution_count": null,
   "metadata": {},
   "outputs": [],
   "source": [
    "nums = []\n",
    "\n",
    "for i in range(1, 100000):\n",
    "    if i%2==0:\n",
    "        nums.append(i)\n",
    "print(nums)\n",
    "print(len(nums))"
   ]
  }
 ],
 "metadata": {
  "kernelspec": {
   "display_name": "Python 3",
   "language": "python",
   "name": "python3"
  },
  "language_info": {
   "codemirror_mode": {
    "name": "ipython",
    "version": 3
   },
   "file_extension": ".py",
   "mimetype": "text/x-python",
   "name": "python",
   "nbconvert_exporter": "python",
   "pygments_lexer": "ipython3",
   "version": "3.11.8"
  }
 },
 "nbformat": 4,
 "nbformat_minor": 2
}
